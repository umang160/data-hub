{
 "cells": [
  {
   "cell_type": "code",
   "execution_count": 3,
   "id": "f00a5c22",
   "metadata": {},
   "outputs": [
    {
     "name": "stdout",
     "output_type": "stream",
     "text": [
      "hello world\n"
     ]
    }
   ],
   "source": [
    "print(\"hello world\") "
   ]
  },
  {
   "cell_type": "code",
   "execution_count": 9,
   "id": "f7215b24",
   "metadata": {},
   "outputs": [
    {
     "data": {
      "text/plain": [
       "complex"
      ]
     },
     "execution_count": 9,
     "metadata": {},
     "output_type": "execute_result"
    }
   ],
   "source": [
    "a=3+4j\n",
    "type(a) "
   ]
  },
  {
   "cell_type": "code",
   "execution_count": 23,
   "id": "ee40f212",
   "metadata": {},
   "outputs": [
    {
     "name": "stdout",
     "output_type": "stream",
     "text": [
      "Enter your name1\n",
      "your name is : 1\n"
     ]
    }
   ],
   "source": [
    "a=input(\"Enter your name\") \n",
    "print(\"your name is :\",a) "
   ]
  },
  {
   "cell_type": "code",
   "execution_count": 6,
   "id": "1caf2457",
   "metadata": {},
   "outputs": [
    {
     "name": "stdout",
     "output_type": "stream",
     "text": [
      "100000000000000000000\n"
     ]
    }
   ],
   "source": [
    "a=10\n",
    "b=20 \n",
    "print(a**b)    #ARithmetic operator"
   ]
  },
  {
   "cell_type": "code",
   "execution_count": 22,
   "id": "d6a06b60",
   "metadata": {},
   "outputs": [
    {
     "name": "stdout",
     "output_type": "stream",
     "text": [
      "0\n"
     ]
    }
   ],
   "source": [
    "#Logical OPerator \n",
    "a=10\n",
    "b=20\n",
    "print(a>>b) "
   ]
  },
  {
   "cell_type": "code",
   "execution_count": null,
   "id": "ca21f387",
   "metadata": {},
   "outputs": [],
   "source": [
    "a=int(input(\"Enter your first number\"))\n",
    "b=int(input(\"Enter your second number\")) \n",
    "print(a+b)  "
   ]
  },
  {
   "cell_type": "code",
   "execution_count": null,
   "id": "3c05a982",
   "metadata": {},
   "outputs": [],
   "source": []
  }
 ],
 "metadata": {
  "kernelspec": {
   "display_name": "Python 3 (ipykernel)",
   "language": "python",
   "name": "python3"
  },
  "language_info": {
   "codemirror_mode": {
    "name": "ipython",
    "version": 3
   },
   "file_extension": ".py",
   "mimetype": "text/x-python",
   "name": "python",
   "nbconvert_exporter": "python",
   "pygments_lexer": "ipython3",
   "version": "3.9.12"
  }
 },
 "nbformat": 4,
 "nbformat_minor": 5
}
